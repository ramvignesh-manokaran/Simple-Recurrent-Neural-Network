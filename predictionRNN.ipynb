{
  "nbformat": 4,
  "nbformat_minor": 0,
  "metadata": {
    "colab": {
      "provenance": []
    },
    "kernelspec": {
      "name": "python3",
      "display_name": "Python 3"
    },
    "language_info": {
      "name": "python"
    }
  },
  "cells": [
    {
      "cell_type": "code",
      "execution_count": 16,
      "metadata": {
        "id": "Bofwz2xz7NvW"
      },
      "outputs": [],
      "source": [
        "# Step 1: Import libraries and load the model\n",
        "\n",
        "import numpy as np\n",
        "import tensorflow as tf\n",
        "from tensorflow.keras.datasets import imdb\n",
        "from tensorflow.keras.preprocessing import sequence\n",
        "from tensorflow.keras.models import load_model\n"
      ]
    },
    {
      "cell_type": "code",
      "source": [
        "# Load the IMDB dataset word index\n",
        "\n",
        "word_index = imdb.get_word_index()\n",
        "reverse_word_index = dict([(value, key) for (key, value) in word_index.items()])"
      ],
      "metadata": {
        "id": "Uw52rqMN7kHl"
      },
      "execution_count": 17,
      "outputs": []
    },
    {
      "cell_type": "code",
      "source": [
        "\n",
        "# Load the trained model\n",
        "model = load_model('simple_rnn_imdb.h5')\n",
        "model.summary()"
      ],
      "metadata": {
        "colab": {
          "base_uri": "https://localhost:8080/",
          "height": 283
        },
        "id": "3bJQN3578gAN",
        "outputId": "211e2573-bf67-4ec1-db91-4a0397ba6c93"
      },
      "execution_count": 18,
      "outputs": [
        {
          "output_type": "stream",
          "name": "stderr",
          "text": [
            "WARNING:absl:Compiled the loaded model, but the compiled metrics have yet to be built. `model.compile_metrics` will be empty until you train or evaluate the model.\n"
          ]
        },
        {
          "output_type": "display_data",
          "data": {
            "text/plain": [
              "\u001b[1mModel: \"sequential\"\u001b[0m\n"
            ],
            "text/html": [
              "<pre style=\"white-space:pre;overflow-x:auto;line-height:normal;font-family:Menlo,'DejaVu Sans Mono',consolas,'Courier New',monospace\"><span style=\"font-weight: bold\">Model: \"sequential\"</span>\n",
              "</pre>\n"
            ]
          },
          "metadata": {}
        },
        {
          "output_type": "display_data",
          "data": {
            "text/plain": [
              "┏━━━━━━━━━━━━━━━━━━━━━━━━━━━━━━━━━┳━━━━━━━━━━━━━━━━━━━━━━━━┳━━━━━━━━━━━━━━━┓\n",
              "┃\u001b[1m \u001b[0m\u001b[1mLayer (type)                   \u001b[0m\u001b[1m \u001b[0m┃\u001b[1m \u001b[0m\u001b[1mOutput Shape          \u001b[0m\u001b[1m \u001b[0m┃\u001b[1m \u001b[0m\u001b[1m      Param #\u001b[0m\u001b[1m \u001b[0m┃\n",
              "┡━━━━━━━━━━━━━━━━━━━━━━━━━━━━━━━━━╇━━━━━━━━━━━━━━━━━━━━━━━━╇━━━━━━━━━━━━━━━┩\n",
              "│ embedding (\u001b[38;5;33mEmbedding\u001b[0m)           │ (\u001b[38;5;34m32\u001b[0m, \u001b[38;5;34m500\u001b[0m, \u001b[38;5;34m128\u001b[0m)         │     \u001b[38;5;34m1,280,000\u001b[0m │\n",
              "├─────────────────────────────────┼────────────────────────┼───────────────┤\n",
              "│ simple_rnn (\u001b[38;5;33mSimpleRNN\u001b[0m)          │ (\u001b[38;5;34m32\u001b[0m, \u001b[38;5;34m128\u001b[0m)              │        \u001b[38;5;34m32,896\u001b[0m │\n",
              "├─────────────────────────────────┼────────────────────────┼───────────────┤\n",
              "│ dense (\u001b[38;5;33mDense\u001b[0m)                   │ (\u001b[38;5;34m32\u001b[0m, \u001b[38;5;34m1\u001b[0m)                │           \u001b[38;5;34m129\u001b[0m │\n",
              "└─────────────────────────────────┴────────────────────────┴───────────────┘\n"
            ],
            "text/html": [
              "<pre style=\"white-space:pre;overflow-x:auto;line-height:normal;font-family:Menlo,'DejaVu Sans Mono',consolas,'Courier New',monospace\">┏━━━━━━━━━━━━━━━━━━━━━━━━━━━━━━━━━┳━━━━━━━━━━━━━━━━━━━━━━━━┳━━━━━━━━━━━━━━━┓\n",
              "┃<span style=\"font-weight: bold\"> Layer (type)                    </span>┃<span style=\"font-weight: bold\"> Output Shape           </span>┃<span style=\"font-weight: bold\">       Param # </span>┃\n",
              "┡━━━━━━━━━━━━━━━━━━━━━━━━━━━━━━━━━╇━━━━━━━━━━━━━━━━━━━━━━━━╇━━━━━━━━━━━━━━━┩\n",
              "│ embedding (<span style=\"color: #0087ff; text-decoration-color: #0087ff\">Embedding</span>)           │ (<span style=\"color: #00af00; text-decoration-color: #00af00\">32</span>, <span style=\"color: #00af00; text-decoration-color: #00af00\">500</span>, <span style=\"color: #00af00; text-decoration-color: #00af00\">128</span>)         │     <span style=\"color: #00af00; text-decoration-color: #00af00\">1,280,000</span> │\n",
              "├─────────────────────────────────┼────────────────────────┼───────────────┤\n",
              "│ simple_rnn (<span style=\"color: #0087ff; text-decoration-color: #0087ff\">SimpleRNN</span>)          │ (<span style=\"color: #00af00; text-decoration-color: #00af00\">32</span>, <span style=\"color: #00af00; text-decoration-color: #00af00\">128</span>)              │        <span style=\"color: #00af00; text-decoration-color: #00af00\">32,896</span> │\n",
              "├─────────────────────────────────┼────────────────────────┼───────────────┤\n",
              "│ dense (<span style=\"color: #0087ff; text-decoration-color: #0087ff\">Dense</span>)                   │ (<span style=\"color: #00af00; text-decoration-color: #00af00\">32</span>, <span style=\"color: #00af00; text-decoration-color: #00af00\">1</span>)                │           <span style=\"color: #00af00; text-decoration-color: #00af00\">129</span> │\n",
              "└─────────────────────────────────┴────────────────────────┴───────────────┘\n",
              "</pre>\n"
            ]
          },
          "metadata": {}
        },
        {
          "output_type": "display_data",
          "data": {
            "text/plain": [
              "\u001b[1m Total params: \u001b[0m\u001b[38;5;34m1,313,027\u001b[0m (5.01 MB)\n"
            ],
            "text/html": [
              "<pre style=\"white-space:pre;overflow-x:auto;line-height:normal;font-family:Menlo,'DejaVu Sans Mono',consolas,'Courier New',monospace\"><span style=\"font-weight: bold\"> Total params: </span><span style=\"color: #00af00; text-decoration-color: #00af00\">1,313,027</span> (5.01 MB)\n",
              "</pre>\n"
            ]
          },
          "metadata": {}
        },
        {
          "output_type": "display_data",
          "data": {
            "text/plain": [
              "\u001b[1m Trainable params: \u001b[0m\u001b[38;5;34m1,313,025\u001b[0m (5.01 MB)\n"
            ],
            "text/html": [
              "<pre style=\"white-space:pre;overflow-x:auto;line-height:normal;font-family:Menlo,'DejaVu Sans Mono',consolas,'Courier New',monospace\"><span style=\"font-weight: bold\"> Trainable params: </span><span style=\"color: #00af00; text-decoration-color: #00af00\">1,313,025</span> (5.01 MB)\n",
              "</pre>\n"
            ]
          },
          "metadata": {}
        },
        {
          "output_type": "display_data",
          "data": {
            "text/plain": [
              "\u001b[1m Non-trainable params: \u001b[0m\u001b[38;5;34m0\u001b[0m (0.00 B)\n"
            ],
            "text/html": [
              "<pre style=\"white-space:pre;overflow-x:auto;line-height:normal;font-family:Menlo,'DejaVu Sans Mono',consolas,'Courier New',monospace\"><span style=\"font-weight: bold\"> Non-trainable params: </span><span style=\"color: #00af00; text-decoration-color: #00af00\">0</span> (0.00 B)\n",
              "</pre>\n"
            ]
          },
          "metadata": {}
        },
        {
          "output_type": "display_data",
          "data": {
            "text/plain": [
              "\u001b[1m Optimizer params: \u001b[0m\u001b[38;5;34m2\u001b[0m (12.00 B)\n"
            ],
            "text/html": [
              "<pre style=\"white-space:pre;overflow-x:auto;line-height:normal;font-family:Menlo,'DejaVu Sans Mono',consolas,'Courier New',monospace\"><span style=\"font-weight: bold\"> Optimizer params: </span><span style=\"color: #00af00; text-decoration-color: #00af00\">2</span> (12.00 B)\n",
              "</pre>\n"
            ]
          },
          "metadata": {}
        }
      ]
    },
    {
      "cell_type": "code",
      "source": [
        "model.get_weights()"
      ],
      "metadata": {
        "colab": {
          "base_uri": "https://localhost:8080/"
        },
        "id": "A9SsDzJp8khI",
        "outputId": "aa10c10e-bed1-4cdc-dbe4-ec8c016249ec"
      },
      "execution_count": 19,
      "outputs": [
        {
          "output_type": "execute_result",
          "data": {
            "text/plain": [
              "[array([[-0.16476172,  0.6480547 , -0.62815857, ...,  0.61550933,\n",
              "          0.64761496,  0.6384329 ],\n",
              "        [-0.06203204,  0.02409029,  0.00670666, ...,  0.03873637,\n",
              "          0.00483562, -0.03940507],\n",
              "        [ 0.05244853,  0.1789008 , -0.18376106, ...,  0.04314619,\n",
              "          0.08606397,  0.00310156],\n",
              "        ...,\n",
              "        [-0.03696207,  0.02242943,  0.01812585, ..., -0.02971633,\n",
              "          0.00556373, -0.05599319],\n",
              "        [ 0.00087419,  0.03459879, -0.04295611, ...,  0.01302412,\n",
              "         -0.01218696,  0.00261597],\n",
              "        [ 0.04495691, -0.02097367,  0.01410847, ..., -0.00824984,\n",
              "         -0.01592265,  0.04467085]], dtype=float32),\n",
              " array([[ 0.0965378 ,  0.07185653, -0.03388406, ..., -0.00558404,\n",
              "          0.09514611,  0.02309094],\n",
              "        [-0.04469428, -0.00336345, -0.00283132, ...,  0.09991907,\n",
              "          0.09120177,  0.08142504],\n",
              "        [ 0.13384163, -0.08155716, -0.07302155, ...,  0.12494928,\n",
              "         -0.08779398, -0.11130814],\n",
              "        ...,\n",
              "        [-0.14765155,  0.14484312, -0.14277254, ..., -0.10195407,\n",
              "         -0.10013713,  0.15502656],\n",
              "        [-0.03738051,  0.1077783 , -0.01032744, ...,  0.10350369,\n",
              "          0.08270276,  0.0775924 ],\n",
              "        [ 0.01773402,  0.05726191, -0.09209707, ...,  0.01793833,\n",
              "          0.11643621, -0.15721361]], dtype=float32),\n",
              " array([[-0.04735012,  0.0420233 , -0.09312303, ..., -0.01941665,\n",
              "          0.02696313,  0.02123871],\n",
              "        [ 0.09069214,  0.07280006, -0.02690527, ...,  0.01617615,\n",
              "         -0.17304273, -0.0156554 ],\n",
              "        [ 0.19231904,  0.1352623 ,  0.02450598, ...,  0.08734611,\n",
              "         -0.1540522 ,  0.09485629],\n",
              "        ...,\n",
              "        [-0.05372829,  0.07164517,  0.03874241, ...,  0.00329351,\n",
              "          0.08286274,  0.07907583],\n",
              "        [-0.03222922,  0.2458088 , -0.09354349, ...,  0.0052876 ,\n",
              "          0.05196176, -0.05337736],\n",
              "        [-0.148053  ,  0.04650648, -0.05028505, ..., -0.12383832,\n",
              "         -0.00571309,  0.07813215]], dtype=float32),\n",
              " array([-4.15994879e-03,  3.87146994e-02,  1.70428335e-04, -1.39656328e-02,\n",
              "        -7.58791110e-03, -2.51214001e-02,  2.51770336e-02, -1.09081222e-02,\n",
              "         1.20878140e-04,  6.73273252e-03, -5.23829786e-03, -8.50476697e-03,\n",
              "        -2.50384687e-07, -1.88336940e-03, -2.98856525e-03, -1.64957643e-02,\n",
              "        -1.17920730e-02,  6.47715945e-03,  8.94040614e-02, -3.27327885e-02,\n",
              "        -9.13108233e-03, -1.49555691e-02, -1.43502066e-02, -1.73161905e-02,\n",
              "        -2.88380068e-02, -3.86315398e-02, -8.14046059e-03,  1.07478397e-02,\n",
              "         5.60595607e-03, -3.02318651e-02, -8.59004632e-03, -3.21282297e-02,\n",
              "        -1.57710072e-02, -3.02532818e-02,  9.52712912e-03, -9.59079433e-03,\n",
              "        -1.18132001e-02, -1.31581444e-02, -1.22230873e-02, -7.94071611e-03,\n",
              "        -1.49914937e-03, -5.14192060e-02, -4.42507444e-03, -2.05720849e-02,\n",
              "        -1.28821908e-02,  3.72001156e-02, -2.20207758e-02, -2.80790981e-02,\n",
              "        -2.92904414e-02,  3.63839767e-03, -4.47919741e-02, -2.43074000e-02,\n",
              "        -2.70075630e-02, -1.94171239e-02,  2.56875250e-02, -2.38037901e-03,\n",
              "        -3.32206208e-03, -8.08822922e-04, -1.61012001e-02, -4.09693047e-02,\n",
              "        -2.40561459e-02, -1.16584925e-02, -2.47577000e-02, -1.29333409e-02,\n",
              "        -1.38858398e-02, -3.74384550e-03, -1.93802267e-02, -1.73496436e-02,\n",
              "         1.91754606e-02,  9.79007315e-03, -1.53570566e-02, -2.98433751e-03,\n",
              "        -7.21369591e-03, -1.83899775e-02, -1.54829994e-02, -2.50808354e-02,\n",
              "         3.36891115e-02, -1.01566184e-02, -1.89996306e-02, -8.26251134e-03,\n",
              "        -3.33039202e-02, -1.29135931e-02,  4.34235763e-03,  3.87500273e-03,\n",
              "        -2.98619792e-02,  3.63854431e-02, -2.60795467e-02, -1.60232000e-02,\n",
              "        -2.77957991e-02, -1.29711898e-02, -8.67624488e-03, -3.24170431e-03,\n",
              "         8.75664949e-02, -3.53001729e-02, -9.62251704e-03, -2.13342067e-02,\n",
              "         7.01319613e-03,  1.41646368e-02, -1.48171056e-02, -1.22390976e-02,\n",
              "        -8.28159973e-03,  9.07192100e-03,  5.92459831e-03, -1.56390704e-02,\n",
              "        -8.61061644e-03,  1.33922063e-02, -1.29102208e-02, -9.31875315e-03,\n",
              "        -5.64913591e-03, -1.18182255e-02,  1.11569213e-02,  2.69351490e-02,\n",
              "         1.26652103e-02, -2.03507375e-02, -1.66244451e-02, -4.09314409e-03,\n",
              "        -1.92576926e-02, -1.19517380e-02, -3.12210410e-03, -9.71291587e-03,\n",
              "        -2.43798085e-03, -7.81308953e-03,  4.72117827e-04, -1.22412611e-02,\n",
              "        -2.54783500e-02, -1.16876990e-03, -3.00797410e-02, -1.65065583e-02],\n",
              "       dtype=float32),\n",
              " array([[-0.22243647],\n",
              "        [-0.06155166],\n",
              "        [ 0.17599924],\n",
              "        [-0.12122572],\n",
              "        [ 0.17844303],\n",
              "        [-0.01178952],\n",
              "        [-0.12636529],\n",
              "        [ 0.11533555],\n",
              "        [-0.1044644 ],\n",
              "        [ 0.18670873],\n",
              "        [ 0.05695318],\n",
              "        [-0.0716678 ],\n",
              "        [ 0.23831844],\n",
              "        [ 0.2680369 ],\n",
              "        [ 0.01237816],\n",
              "        [-0.21962966],\n",
              "        [-0.1953706 ],\n",
              "        [-0.3257084 ],\n",
              "        [-0.39638093],\n",
              "        [-0.16026695],\n",
              "        [-0.1998496 ],\n",
              "        [-0.13299635],\n",
              "        [-0.19465439],\n",
              "        [-0.09361392],\n",
              "        [-0.11025855],\n",
              "        [ 0.15443097],\n",
              "        [-0.22237933],\n",
              "        [-0.07280912],\n",
              "        [-0.3609895 ],\n",
              "        [ 0.0277356 ],\n",
              "        [-0.02264377],\n",
              "        [ 0.22615807],\n",
              "        [ 0.21366175],\n",
              "        [-0.08602969],\n",
              "        [ 0.19075978],\n",
              "        [ 0.24595127],\n",
              "        [-0.0435886 ],\n",
              "        [ 0.01334937],\n",
              "        [ 0.0327177 ],\n",
              "        [-0.17827393],\n",
              "        [-0.18756072],\n",
              "        [-0.11269499],\n",
              "        [ 0.13075592],\n",
              "        [ 0.04435272],\n",
              "        [-0.0531318 ],\n",
              "        [-0.10101658],\n",
              "        [-0.00044797],\n",
              "        [ 0.14394149],\n",
              "        [ 0.12740178],\n",
              "        [-0.146311  ],\n",
              "        [-0.07102191],\n",
              "        [-0.12923504],\n",
              "        [ 0.05931805],\n",
              "        [ 0.24647465],\n",
              "        [-0.20496252],\n",
              "        [-0.03975252],\n",
              "        [ 0.19574279],\n",
              "        [-0.01237377],\n",
              "        [ 0.2843937 ],\n",
              "        [ 0.13696249],\n",
              "        [-0.010116  ],\n",
              "        [-0.16499783],\n",
              "        [ 0.15373106],\n",
              "        [ 0.17082746],\n",
              "        [ 0.12960619],\n",
              "        [-0.17380942],\n",
              "        [ 0.17601241],\n",
              "        [ 0.0435215 ],\n",
              "        [ 0.27101716],\n",
              "        [-0.07881267],\n",
              "        [ 0.02997615],\n",
              "        [-0.05582222],\n",
              "        [ 0.16557468],\n",
              "        [-0.3174791 ],\n",
              "        [ 0.09876955],\n",
              "        [ 0.02517398],\n",
              "        [ 0.08106097],\n",
              "        [-0.04996853],\n",
              "        [ 0.01338276],\n",
              "        [-0.06720441],\n",
              "        [ 0.15008177],\n",
              "        [-0.21410114],\n",
              "        [ 0.01002404],\n",
              "        [ 0.16408972],\n",
              "        [-0.30881888],\n",
              "        [ 0.3381134 ],\n",
              "        [ 0.08210603],\n",
              "        [ 0.01977111],\n",
              "        [ 0.05598459],\n",
              "        [-0.06981865],\n",
              "        [ 0.19775458],\n",
              "        [ 0.2558799 ],\n",
              "        [ 0.3144715 ],\n",
              "        [-0.10553434],\n",
              "        [ 0.1725219 ],\n",
              "        [ 0.17840351],\n",
              "        [ 0.29020226],\n",
              "        [-0.23612225],\n",
              "        [-0.02669689],\n",
              "        [-0.14358905],\n",
              "        [-0.11189076],\n",
              "        [-0.02403976],\n",
              "        [-0.03722678],\n",
              "        [-0.15553014],\n",
              "        [-0.12185042],\n",
              "        [-0.33368024],\n",
              "        [-0.05109367],\n",
              "        [-0.15547305],\n",
              "        [-0.31857792],\n",
              "        [-0.20016292],\n",
              "        [-0.08319051],\n",
              "        [-0.00670696],\n",
              "        [-0.17717192],\n",
              "        [ 0.11019648],\n",
              "        [ 0.02992485],\n",
              "        [-0.03729679],\n",
              "        [ 0.00105972],\n",
              "        [ 0.0791048 ],\n",
              "        [-0.01129143],\n",
              "        [-0.15301213],\n",
              "        [-0.21559301],\n",
              "        [ 0.19883393],\n",
              "        [-0.08133938],\n",
              "        [ 0.06755516],\n",
              "        [-0.04498823],\n",
              "        [ 0.21220006],\n",
              "        [-0.21542871],\n",
              "        [-0.14505155]], dtype=float32),\n",
              " array([0.00277852], dtype=float32)]"
            ]
          },
          "metadata": {},
          "execution_count": 19
        }
      ]
    },
    {
      "cell_type": "code",
      "source": [
        "# Step 2 : Helper Functions\n",
        "\n",
        "# Function to decode reviews\n",
        "def decode_review(encoded_review):\n",
        "    decoded_review = ' '.join([reverse_word_index.get(i - 3, '?') for i in encoded_review])\n",
        "    return decoded_review\n",
        "\n",
        "# Function to preprocess user input\n",
        "def preprocess_text(text):\n",
        "    words = text.lower().split()\n",
        "    encoded_review = [word_index.get(word, 2) + 3 for word in words]\n",
        "    padded_review = sequence.pad_sequences([encoded_review], maxlen=500)\n",
        "    return padded_review"
      ],
      "metadata": {
        "id": "33YufOjU8qMd"
      },
      "execution_count": 20,
      "outputs": []
    },
    {
      "cell_type": "code",
      "source": [
        "### Prediction function\n",
        "\n",
        "def predict_sentiment(review):\n",
        "  preprocessed_input = preprocess_text(review)\n",
        "\n",
        "  prediction = model.predict(preprocessed_input)\n",
        "\n",
        "  sentiment = 'Positive' if prediction > 0.5 else 'Negative'\n",
        "\n",
        "  return sentiment, prediction[0][0]\n"
      ],
      "metadata": {
        "id": "bNUAblkx9KIN"
      },
      "execution_count": 21,
      "outputs": []
    },
    {
      "cell_type": "code",
      "source": [
        "# Step 4: User Input and Prediction\n",
        "\n",
        "#Example review for prediction\n",
        "\n",
        "example_review = \"The movie was fantastic! The acting was great and the plot was thrilling.\"\n",
        "\n",
        "sentiment,score = predict_sentiment(example_review)\n",
        "\n",
        "print(f\"Sentiment: {sentiment}\")\n",
        "print(f\"Score: {score}\")"
      ],
      "metadata": {
        "colab": {
          "base_uri": "https://localhost:8080/"
        },
        "id": "tE2tYsXs9u0f",
        "outputId": "5fdc83c2-8423-42c5-92c9-712d210d0b4c"
      },
      "execution_count": 22,
      "outputs": [
        {
          "output_type": "stream",
          "name": "stdout",
          "text": [
            "\u001b[1m1/1\u001b[0m \u001b[32m━━━━━━━━━━━━━━━━━━━━\u001b[0m\u001b[37m\u001b[0m \u001b[1m0s\u001b[0m 271ms/step\n",
            "Sentiment: Positive\n",
            "Score: 0.9979840517044067\n"
          ]
        }
      ]
    },
    {
      "cell_type": "code",
      "source": [],
      "metadata": {
        "id": "6jimCHcT-CoX"
      },
      "execution_count": 22,
      "outputs": []
    }
  ]
}